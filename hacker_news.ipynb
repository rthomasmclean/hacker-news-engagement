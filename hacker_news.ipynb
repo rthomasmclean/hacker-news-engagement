{
 "cells": [
  {
   "cell_type": "markdown",
   "id": "da895453-8d03-482d-ba6f-9b3fb29a7a61",
   "metadata": {},
   "source": [
    "# Best Time to Post on Hacker News for Engagement\n",
    "## Background\n",
    "[Hacker News](https://news.ycombinator.com/) is a website started by [Y Combinator](https://www.ycombinator.com/). Much like reddit, posts on Hacker News are positioned based on the number of votes and comments they receive. Hacker News is different than reddit in that it caters more specifically to technology professionals and entrepreneurs. For context, posts that reach the top of Hacker News' listings can get hundreds of thousands of visitors.\n",
    "\n",
    "## Objective\n",
    "For this project, we are specifically focused on posts with one of the following two phrases in the title: \"Ask HN\" or \"Show HN\". Users submit \"Ask HN\" posts to crowd source the Hacker News community to find answers to a specific questions, whereas \"Show HN\" posts are usually the byproduct of users sharing their projects/thoughts/findings with the Hacker News community. Through our analysis, we will attempt to answer the following two question:\n",
    "1. Do Ask HN or Show HN receive more comments on average?\n",
    "2. Do posts created at a certain time receive more comments on average?"
   ]
  },
  {
   "cell_type": "markdown",
   "id": "4483b055-b31e-468e-ae07-bbceded0cd6c",
   "metadata": {},
   "source": [
    "## Opening and Exploring the Data Set\n",
    "In this project, we will work with the following [Kaggle data set](https://www.kaggle.com/hacker-news/hacker-news-posts) that has been reduced from almost 300,000 rows to ~20,000 rows. Note that the data set we are analyzing no longer contains submissions that did not receive any comments and is limited to recent posts (past ~12 months).\n",
    "\n",
    "Below are descriptions (and corresponding column indexes) of the data set's columns:\n",
    "\n",
    "0. 'id': The unique identifier from Hacker News for the post\n",
    "1. 'title': The title of the post\n",
    "2. 'url': The URL that the posts links to, if the post has a URL\n",
    "3. 'num_points': The number of points the post acquired, calculated as the total number of upvotes minus the total number of downvotes\n",
    "4. 'num_comments': The number of comments that were made on the post\n",
    "5. 'author': The username of the person who submitted the post\n",
    "6. 'created_at': The date and time at which the post was submitted"
   ]
  },
  {
   "cell_type": "code",
   "execution_count": 1,
   "id": "0bd2787d-ae50-48fa-a8d1-290cbc657183",
   "metadata": {},
   "outputs": [
    {
     "name": "stdout",
     "output_type": "stream",
     "text": [
      "Data Set Headers: ['id', 'title', 'url', 'num_points', 'num_comments', 'author', 'created_at']\n",
      "\n",
      "\n",
      "First Five Rows:\n",
      "[['12224879', 'Interactive Dynamic Video', 'http://www.interactivedynamicvideo.com/', '386', '52', 'ne0phyte', '8/4/2016 11:52'], ['10975351', 'How to Use Open Source and Shut the Fuck Up at the Same Time', 'http://hueniverse.com/2016/01/26/how-to-use-open-source-and-shut-the-fuck-up-at-the-same-time/', '39', '10', 'josep2', '1/26/2016 19:30'], ['11964716', \"Florida DJs May Face Felony for April Fools' Water Joke\", 'http://www.thewire.com/entertainment/2013/04/florida-djs-april-fools-water-joke/63798/', '2', '1', 'vezycash', '6/23/2016 22:20'], ['11919867', 'Technology ventures: From Idea to Enterprise', 'https://www.amazon.com/Technology-Ventures-Enterprise-Thomas-Byers/dp/0073523429', '3', '1', 'hswarna', '6/17/2016 0:01'], ['10301696', 'Note by Note: The Making of Steinway L1037 (2007)', 'http://www.nytimes.com/2007/11/07/movies/07stein.html?_r=0', '8', '2', 'walterbell', '9/30/2015 4:12']]\n",
      "\n",
      "\n",
      "Rows: 20100\n"
     ]
    }
   ],
   "source": [
    "from csv import reader\n",
    "\n",
    "opened_file = open('hacker_news.csv')\n",
    "read_file = reader(opened_file)\n",
    "hn = list(read_file)\n",
    "# Seperate headers from rest of data\n",
    "hn_headers = hn[0]\n",
    "hn = hn[1:] \n",
    "\n",
    "print(\"Data Set Headers: {}\".format(hn_headers))\n",
    "print(\"\\n\")\n",
    "print(\"First Five Rows:\\n{}\".format(hn[:5]))\n",
    "print(\"\\n\")\n",
    "print(\"Rows: {}\".format(len(hn)))\n"
   ]
  },
  {
   "cell_type": "markdown",
   "id": "724e82b3-c87a-4217-9d6e-1c819006c43f",
   "metadata": {},
   "source": [
    "Once we have a basic understanding of the data set, we now seperate posts by type. This analysis focuses specifically on \"Ask HN\" and \"Show HN\" posts, so we will split `hn` into three seperate lists by post type: `ask_posts`, `show_posts`, and `other_posts`."
   ]
  },
  {
   "cell_type": "code",
   "execution_count": 2,
   "id": "3d9837be-36b9-4f08-a518-e7d9e0e8ee25",
   "metadata": {},
   "outputs": [
    {
     "name": "stdout",
     "output_type": "stream",
     "text": [
      "Ask Posts: 1744\n",
      "Show Posts: 1162\n",
      "Other Posts: 17194\n",
      "\n",
      "\n",
      "First Five Ask Posts\n",
      "[['12296411', 'Ask HN: How to improve my personal website?', '', '2', '6', 'ahmedbaracat', '8/16/2016 9:55'], ['10610020', 'Ask HN: Am I the only one outraged by Twitter shutting down share counts?', '', '28', '29', 'tkfx', '11/22/2015 13:43'], ['11610310', 'Ask HN: Aby recent changes to CSS that broke mobile?', '', '1', '1', 'polskibus', '5/2/2016 10:14'], ['12210105', 'Ask HN: Looking for Employee #3 How do I do it?', '', '1', '3', 'sph130', '8/2/2016 14:20'], ['10394168', 'Ask HN: Someone offered to buy my browser extension from me. What now?', '', '28', '17', 'roykolak', '10/15/2015 16:38']]\n",
      "\n",
      "\n",
      "First Five Show Posts\n",
      "[['10627194', 'Show HN: Wio Link  ESP8266 Based Web of Things Hardware Development Platform', 'https://iot.seeed.cc', '26', '22', 'kfihihc', '11/25/2015 14:03'], ['10646440', 'Show HN: Something pointless I made', 'http://dn.ht/picklecat/', '747', '102', 'dhotson', '11/29/2015 22:46'], ['11590768', 'Show HN: Shanhu.io, a programming playground powered by e8vm', 'https://shanhu.io', '1', '1', 'h8liu', '4/28/2016 18:05'], ['12178806', 'Show HN: Webscope  Easy way for web developers to communicate with Clients', 'http://webscopeapp.com', '3', '3', 'fastbrick', '7/28/2016 7:11'], ['10872799', 'Show HN: GeoScreenshot  Easily test Geo-IP based web pages', 'https://www.geoscreenshot.com/', '1', '9', 'kpsychwave', '1/9/2016 20:45']]\n",
      "\n",
      "\n",
      "First Five Other Post\n",
      "[['12224879', 'Interactive Dynamic Video', 'http://www.interactivedynamicvideo.com/', '386', '52', 'ne0phyte', '8/4/2016 11:52'], ['10975351', 'How to Use Open Source and Shut the Fuck Up at the Same Time', 'http://hueniverse.com/2016/01/26/how-to-use-open-source-and-shut-the-fuck-up-at-the-same-time/', '39', '10', 'josep2', '1/26/2016 19:30'], ['11964716', \"Florida DJs May Face Felony for April Fools' Water Joke\", 'http://www.thewire.com/entertainment/2013/04/florida-djs-april-fools-water-joke/63798/', '2', '1', 'vezycash', '6/23/2016 22:20'], ['11919867', 'Technology ventures: From Idea to Enterprise', 'https://www.amazon.com/Technology-Ventures-Enterprise-Thomas-Byers/dp/0073523429', '3', '1', 'hswarna', '6/17/2016 0:01'], ['10301696', 'Note by Note: The Making of Steinway L1037 (2007)', 'http://www.nytimes.com/2007/11/07/movies/07stein.html?_r=0', '8', '2', 'walterbell', '9/30/2015 4:12']]\n"
     ]
    }
   ],
   "source": [
    "ask_posts = []\n",
    "show_posts = []\n",
    "other_posts = []\n",
    "\n",
    "# Use lower() to ensure all case variations of \"Ask HN\" and \"Show HN\" posts are captured\n",
    "for row in hn:\n",
    "    title = row[1]\n",
    "    if title.lower().startswith(\"ask hn\"):\n",
    "        ask_posts.append(row)\n",
    "    elif title.lower().startswith(\"show hn\"):\n",
    "        show_posts.append(row)\n",
    "    else:\n",
    "        other_posts.append(row)\n",
    "\n",
    "print(\"Ask Posts: {}\".format(len(ask_posts)))\n",
    "print(\"Show Posts: {}\".format(len(show_posts)))\n",
    "print(\"Other Posts: {}\".format(len(other_posts)))\n",
    "print(\"\\n\")\n",
    "\n",
    "# Print example rows from each list\n",
    "print(\"First Five Ask Posts\\n{}\".format(ask_posts[:5]))\n",
    "print(\"\\n\")\n",
    "print(\"First Five Show Posts\\n{}\".format(show_posts[:5]))\n",
    "print(\"\\n\")\n",
    "print(\"First Five Other Post\\n{}\".format(other_posts[:5]))"
   ]
  },
  {
   "cell_type": "markdown",
   "id": "89e552de-fc9f-48ad-8b39-43f4b7d13020",
   "metadata": {},
   "source": [
    "## Average Number of Comments by Post Type (\"Ask HN\" vs. \"Show HN\")"
   ]
  },
  {
   "cell_type": "code",
   "execution_count": 3,
   "id": "b46423e6-559b-472d-9a44-d98f8ac27ee6",
   "metadata": {},
   "outputs": [
    {
     "name": "stdout",
     "output_type": "stream",
     "text": [
      "Avg. Ask Comments: 14.04\n",
      "Avg. Show Comments: 10.32\n"
     ]
    }
   ],
   "source": [
    "# Determine number of \"Ask HN\" comments; used in average calculation\n",
    "total_ask_comments = 0\n",
    "for row in ask_posts:\n",
    "    num_comments = int(row[4])\n",
    "    total_ask_comments += num_comments\n",
    "\n",
    "avg_ask_comments = total_ask_comments / len(ask_posts)\n",
    "print(\"Avg. Ask Comments: {avg:.2f}\".format(avg=avg_ask_comments))\n",
    "\n",
    "# Repeat above process, but for \"Show HN\" posts\n",
    "total_show_comments = 0\n",
    "for row in show_posts:\n",
    "    num_comments = int(row[4])\n",
    "    total_show_comments += num_comments\n",
    "\n",
    "avg_show_comments = total_show_comments / len(show_posts)\n",
    "print(\"Avg. Show Comments: {avg:.2f}\".format(avg=avg_show_comments))\n",
    "    \n",
    "    "
   ]
  },
  {
   "cell_type": "markdown",
   "id": "5b18ff72-9e58-4b00-ab7f-278c0e751511",
   "metadata": {},
   "source": [
    "\"Ask HN\" posts are generating ~36% more come comments on average than \"Show HN\" posts. This finding is intuitive because an \"Ask HN\" post is directly soliciting a response/answer to the user's question, whereas \"Show HN\" posts are not necessarily seeking a response in the form of a comment.\n",
    "\n",
    "We will focus our remaining analysis solely on \"Ask HN\" posts since we have determined that they attract significantly more comments on average."
   ]
  },
  {
   "cell_type": "markdown",
   "id": "465f56ba-9e19-4e33-a412-544826602103",
   "metadata": {},
   "source": [
    "## \"Ask HN\" Posts: Time of Day Analysis\n",
    "We will now focus on the second question: Do posts created at a certain time receive more comments on average?\n",
    "\n",
    "We first calculate the quantity of \"Ask HN\" posts created each hour, along with the total number of comments."
   ]
  },
  {
   "cell_type": "code",
   "execution_count": 4,
   "id": "072f523b-bd95-4938-84be-154de9bdab59",
   "metadata": {},
   "outputs": [
    {
     "name": "stdout",
     "output_type": "stream",
     "text": [
      "Top Five Hours for Ask Post Comments\n",
      "15:00: 38.59 average comments per post\n",
      "02:00: 23.81 average comments per post\n",
      "20:00: 21.52 average comments per post\n",
      "16:00: 16.80 average comments per post\n",
      "21:00: 16.01 average comments per post\n",
      "\n",
      "\n",
      "Bottom Five Hours for Ask Post Comments\n",
      "07:00: 7.85 average comments per post\n",
      "03:00: 7.80 average comments per post\n",
      "04:00: 7.17 average comments per post\n",
      "22:00: 6.75 average comments per post\n",
      "09:00: 5.58 average comments per post\n"
     ]
    }
   ],
   "source": [
    "# Import datetime in order to effectively analyze 'created-at' column\n",
    "import datetime as dt\n",
    "\n",
    "result_list = []\n",
    "for row in ask_posts:\n",
    "    date_created = row[6]\n",
    "    num_comments = int(row[4])\n",
    "    result_list.append([date_created, num_comments])\n",
    "\n",
    "# Create frequency table, grouped by hour of post\n",
    "counts_by_hour = {}\n",
    "comments_by_hour = {}\n",
    "for row in result_list:\n",
    "    dt_instance = dt.datetime.strptime(row[0], \"%m/%d/%Y %H:%M\")\n",
    "    hour = dt_instance.strftime(\"%H\")\n",
    "    num_comments = row[1]\n",
    "    if hour not in counts_by_hour:\n",
    "        counts_by_hour[hour] = 1\n",
    "        comments_by_hour[hour] = num_comments\n",
    "    else:\n",
    "        counts_by_hour[hour] += 1\n",
    "        comments_by_hour[hour] += num_comments\n",
    "\n",
    "# Above frequency table used to populate list of averages by hour\n",
    "avg_by_hour = []\n",
    "for hour in comments_by_hour:\n",
    "    avg_by_hour.append([hour, comments_by_hour[hour] / counts_by_hour[hour]])\n",
    "\n",
    "swap_avg_by_hour = []\n",
    "for hour in avg_by_hour:\n",
    "    swap_avg_by_hour.append([hour[1], hour[0]])\n",
    "\n",
    "sorted_swap = sorted(swap_avg_by_hour, reverse=True)\n",
    "\n",
    "print(\"Top Five Hours for Ask Post Comments\")\n",
    "for hour in sorted_swap[:5]:\n",
    "    dt_instance = dt.datetime.strptime(hour[1], \"%H\")\n",
    "    dt_hour = dt_instance.strftime(\"%H:%M\")\n",
    "    print(\"{hour}: {avg:.2f} average comments per post\".format(hour=dt_hour, avg=hour[0]))\n",
    "\n",
    "print('\\n')\n",
    "print(\"Bottom Five Hours for Ask Post Comments\")    \n",
    "for hour in sorted_swap[-5:]:\n",
    "    dt_instance = dt.datetime.strptime(hour[1], \"%H\")\n",
    "    dt_hour = dt_instance.strftime(\"%H:%M\")\n",
    "    print(\"{hour}: {avg:.2f} average comments per post\".format(hour=dt_hour, avg=hour[0]))\n"
   ]
  },
  {
   "cell_type": "markdown",
   "id": "ab4fa9a1-d343-4db0-9816-13ec793d1df0",
   "metadata": {},
   "source": [
    "By contrasting the top five hours and bottom five hours, it is clear that the timing of the post has some material impact on the number of comments received. We will now focus our attention on the top five hours, and the specific drivers of the high average number of comments.\n",
    "\n",
    "## Discussion of Findings\n",
    "#### Outlier Driving 02:00 Hour Results\n",
    "Of the top five hours for comments, four seem to fall in line with the same narrative. 15:00, 16:00, 20:00 and 21:00 are within the late afternoon/evening for those on the east coast and overlap with the west coast afternoon. These times attracting high comment volume makes intuitive sense since one would imagine that Hacker News users would be most engaged after work/class hours and that recent posts would draw their attention.\n",
    "\n",
    "The 02:00 hour generating significant comment activity seems to be an outlier. Let's dig into what is driving the high average number of comments at the 02:00 hour."
   ]
  },
  {
   "cell_type": "code",
   "execution_count": 5,
   "id": "a51b489a-d463-4b21-b5bc-d46e3aad6e39",
   "metadata": {},
   "outputs": [
    {
     "name": "stdout",
     "output_type": "stream",
     "text": [
      "Top Five Most Commented Ask Posts from 2:00 Hour:\n",
      "868 average comments per post: Ask HN: What's the best tool you used to use that doesn't exist anymore?\n",
      "101 average comments per post: Ask HN: How can I tell if I have programming aptitude?\n",
      "41 average comments per post: Ask HN: The best app to keep a work diary\n",
      "31 average comments per post: Ask HN: Where are 150k to 200k salary job in Silicon Valley?\n",
      "30 average comments per post: Ask HN: Settle for less salary or change to make more in prime years\n"
     ]
    }
   ],
   "source": [
    "# Create list of \"Ask HN\" posts at the 2:00 hour to determine driver of high average\n",
    "two_ask_posts = []\n",
    "for row in ask_posts:\n",
    "    dt_instance = dt.datetime.strptime(row[-1], \"%m/%d/%Y %H:%M\")\n",
    "    hour = dt_instance.strftime(\"%H\")\n",
    "    if hour == \"02\":\n",
    "        num_comments = int(row[4])\n",
    "        two_ask_posts.append([num_comments, row[1]])\n",
    "\n",
    "# Sort to show the most commented on posts\n",
    "two_posts_sorted = sorted(two_ask_posts, reverse=True)\n",
    "print(\"Top Five Most Commented Ask Posts from 2:00 Hour:\")\n",
    "for row in two_posts_sorted[:5]:\n",
    "    post_title = row[1] \n",
    "    num_comments = row[0]\n",
    "    print(\"{comments} average comments per post: {title}\".format(comments=num_comments, title=post_title))"
   ]
  },
  {
   "cell_type": "markdown",
   "id": "f448a3d3-1299-4deb-9a55-cbc3422dde2f",
   "metadata": {},
   "source": [
    "Clearly the average is skewed by _Ask HN: What's the best tool you used to use that doesn't exist anymore?_ This post, which is among the most commented \"Ask HN\" posts regardless of hour, has generated more than 8x the comments of any other post at the 02:00 hour.\n",
    "\n",
    "#### Drivers of High Average Number of Comments (15:00, 16:00, 20:00, 21:00)\n",
    "Let us run the same analysis on 15:00, 16:00, 20:00 and 21:00 to see if we notice any noteworthy patterns."
   ]
  },
  {
   "cell_type": "code",
   "execution_count": 6,
   "id": "0dbae55c-1b06-48c8-ba4c-7713dcc03c97",
   "metadata": {},
   "outputs": [
    {
     "name": "stdout",
     "output_type": "stream",
     "text": [
      "Top Five Most Commented Ask Posts from 15:00 Hour:\n",
      "947 comments: Ask HN: Who is hiring? (August 2016)\n",
      "910 comments: Ask HN: Who is hiring? (September 2016)\n",
      "283 comments: Ask HN: Who wants to be hired? (April 2016)\n",
      "250 comments: Ask HN: Who wants to be hired? (June 2016)\n",
      "202 comments: Ask HN: Who wants to be hired? (March 2016)\n",
      "\n",
      "\n",
      "Top Five Most Commented Ask Posts from 16:00 Hour:\n",
      "691 comments: Ask HN: How much do you make at Amazon? Here is how much I make at Amazon\n",
      "140 comments: Ask HN: How do you review code?\n",
      "112 comments: Ask HN: How do you use Amazon Echo?\n",
      "108 comments: Ask HN: Do you still play with VR actively?\n",
      "80 comments: Ask HN: Why do browsers still support pop up dialogs and other bad behavior?\n",
      "\n",
      "\n",
      "Top Five Most Commented Ask Posts from 20:00 Hour:\n",
      "514 comments: Ask HN: What book have you given as a gift?\n",
      "477 comments: Ask HN: What do you wish someone would build?\n",
      "183 comments: Ask HN: What's your favorite way to save money?\n",
      "58 comments: Ask HN: What non-computer activities do you do?\n",
      "40 comments: Ask HN: What is your favorite tech prank?\n",
      "\n",
      "\n",
      "Top Five Most Commented Ask Posts from 21:00 Hour:\n",
      "520 comments: Ask HN: What should we fund at YC Research?\n",
      "281 comments: Ask HN: Which open source projects have kind, supportive, talented teams?\n",
      "147 comments: Ask HN: What to do after failing final interviews twice?\n",
      "131 comments: Ask HN: Is Knuth's TAOCP worth the time and effort?\n",
      "50 comments: Ask HN: Any advice for switching from self-employment back to employee?\n"
     ]
    }
   ],
   "source": [
    "# Repeat same process, seperating lists by hour\n",
    "# Seeking to identify patterns and drivers of comment volume\n",
    "fifteen_ask_posts = []\n",
    "sixteen_ask_posts = []\n",
    "twenty_ask_posts = []\n",
    "twenty_one_ask_posts = []\n",
    "\n",
    "for row in ask_posts:\n",
    "    dt_instance = dt.datetime.strptime(row[-1], \"%m/%d/%Y %H:%M\")\n",
    "    hour = dt_instance.strftime(\"%H\")\n",
    "    if hour == \"15\":\n",
    "        num_comments = int(row[4])\n",
    "        fifteen_ask_posts.append([num_comments, row[1]])\n",
    "    if hour == \"16\":\n",
    "        num_comments = int(row[4])\n",
    "        sixteen_ask_posts.append([num_comments, row[1]])\n",
    "    if hour == \"20\":\n",
    "        num_comments = int(row[4])\n",
    "        twenty_ask_posts.append([num_comments, row[1]])\n",
    "    if hour == \"21\":\n",
    "        num_comments = int(row[4])\n",
    "        twenty_one_ask_posts.append([num_comments, row[1]])\n",
    "\n",
    "# Sort to show the most commented on posts for each of these hours\n",
    "fifteen_posts_sorted = sorted(fifteen_ask_posts, reverse=True)\n",
    "sixteen_posts_sorted = sorted(sixteen_ask_posts, reverse=True)\n",
    "twenty_posts_sorted = sorted(twenty_ask_posts, reverse=True)\n",
    "twenty_one_posts_sorted = sorted(twenty_one_ask_posts, reverse=True)\n",
    "\n",
    "\n",
    "print(\"Top Five Most Commented Ask Posts from 15:00 Hour:\")\n",
    "for row in fifteen_posts_sorted[:5]:\n",
    "    post_title = row[1] \n",
    "    num_comments = row[0]\n",
    "    print(\"{comments} comments: {title}\".format(comments=num_comments, title=post_title))\n",
    "print('\\n')\n",
    "\n",
    "print(\"Top Five Most Commented Ask Posts from 16:00 Hour:\")\n",
    "for row in sixteen_posts_sorted[:5]:\n",
    "    post_title = row[1] \n",
    "    num_comments = row[0]\n",
    "    print(\"{comments} comments: {title}\".format(comments=num_comments, title=post_title))\n",
    "print('\\n')\n",
    "\n",
    "print(\"Top Five Most Commented Ask Posts from 20:00 Hour:\")\n",
    "for row in twenty_posts_sorted[:5]:\n",
    "    post_title = row[1] \n",
    "    num_comments = row[0]\n",
    "    print(\"{comments} comments: {title}\".format(comments=num_comments, title=post_title))\n",
    "print('\\n')\n",
    "\n",
    "print(\"Top Five Most Commented Ask Posts from 21:00 Hour:\")\n",
    "for row in twenty_one_posts_sorted[:5]:\n",
    "    post_title = row[1] \n",
    "    num_comments = row[0]\n",
    "    print(\"{comments} comments: {title}\".format(comments=num_comments, title=post_title))"
   ]
  },
  {
   "cell_type": "markdown",
   "id": "864c177b-7be9-4ec1-8b35-7c80f9e77de3",
   "metadata": {},
   "source": [
    "As can be seen, the distribution of comments is less skewed at these hours. \n",
    "\n",
    "It is interesting that the top posts at the 15:00 hour seem to be very similar--all focused on employment opportunities and are all likely by the same author. Below we will look into the authors of these posts to try to glean insights from this common thread.\n",
    "\n",
    "#### Impact of \"Ask HN\" Posts by whoishiring"
   ]
  },
  {
   "cell_type": "code",
   "execution_count": 7,
   "id": "83c5e153-09d3-4ef1-8891-b5b01983162d",
   "metadata": {},
   "outputs": [
    {
     "name": "stdout",
     "output_type": "stream",
     "text": [
      "Top Ten Most Commented Ask Posts from 15:00 Hour by Author:\n",
      "whoishiring; 947 comments: Ask HN: Who is hiring? (August 2016)\n",
      "whoishiring; 910 comments: Ask HN: Who is hiring? (September 2016)\n",
      "whoishiring; 283 comments: Ask HN: Who wants to be hired? (April 2016)\n",
      "whoishiring; 250 comments: Ask HN: Who wants to be hired? (June 2016)\n",
      "whoishiring; 202 comments: Ask HN: Who wants to be hired? (March 2016)\n",
      "the_wheel; 162 comments: Ask HN: What sites do you use to find contract work?\n",
      "whoishiring; 158 comments: Ask HN: Freelancer? Seeking freelancer? (November 2015)\n",
      "minionslave; 144 comments: Ask HN: Do I have to go through recruiters nowadays, how do you find new jobs?\n",
      "bflesch; 128 comments: Ask HN: What to do when a Chinese startup clones your website?\n",
      "whoishiring; 118 comments: Ask HN: Who wants to be hired? (August 2016)\n",
      "\n",
      "\n",
      "whoishiring Posts:\n",
      "250 comments; posted at 06/01/2016 15:01 EST\n",
      "93 comments; posted at 12/01/2015 15:00 EST\n",
      "910 comments; posted at 09/01/2016 15:00 EST\n",
      "118 comments; posted at 08/01/2016 15:01 EST\n",
      "85 comments; posted at 09/01/2016 15:00 EST\n",
      "947 comments; posted at 08/01/2016 15:01 EST\n",
      "283 comments; posted at 04/01/2016 15:01 EST\n",
      "158 comments; posted at 11/02/2015 15:01 EST\n",
      "202 comments; posted at 03/01/2016 15:00 EST\n",
      "\n",
      "\n",
      "Avg. Comments ex-whoishiring Posts at 15:00 Hour:\n",
      "13.37\n"
     ]
    }
   ],
   "source": [
    "# Iterate through 15:00 hour comments and save number of comments, hour, and author\n",
    "fifteen_authors = []\n",
    "for row in ask_posts:\n",
    "    dt_instance = dt.datetime.strptime(row[-1], \"%m/%d/%Y %H:%M\")\n",
    "    hour = dt_instance.strftime(\"%H\")\n",
    "    if hour == \"15\":\n",
    "        num_comments = int(row[4])\n",
    "        fifteen_authors.append([num_comments, row[1], row[-2]])\n",
    "\n",
    "# Sort to show the most commented on posts\n",
    "fifteen_authors_sorted = sorted(fifteen_authors, reverse=True)\n",
    "        \n",
    "print(\"Top Ten Most Commented Ask Posts from 15:00 Hour by Author:\")\n",
    "for row in fifteen_authors_sorted[:10]:\n",
    "    author = row[2]\n",
    "    post_title = row[1] \n",
    "    num_comments = row[0]\n",
    "    print(\"{user}; {comments} comments: {title}\".format(user=author, comments=num_comments, title=post_title))\n",
    "print('\\n')\n",
    "\n",
    "# Modify list to isolate effect of whoishiring posts\n",
    "# More granular 'created_at' filter to determine if all posts are at exact same time\n",
    "whoishiring = []\n",
    "for row in ask_posts:\n",
    "    author = row[-2]\n",
    "    dt_instance = dt.datetime.strptime(row[-1], \"%m/%d/%Y %H:%M\")\n",
    "    time_of_day = dt_instance.strftime(\"%m/%d/%Y %H:%M\")\n",
    "    num_comments = int(row[4])\n",
    "    if author == \"whoishiring\":\n",
    "        whoishiring.append([num_comments, time_of_day])\n",
    "\n",
    "print(\"whoishiring Posts:\")\n",
    "for row in whoishiring:\n",
    "    num_comments = row[0]\n",
    "    time_of_day = row[1]\n",
    "    print(\"{comments} comments; posted at {time} EST\".format(comments=num_comments, time=time_of_day))\n",
    "\n",
    "# Determine if average number of comments at 15:00 hour is still significant without whoishiring posts\n",
    "count = 0\n",
    "comments = 0\n",
    "for row in ask_posts:\n",
    "    author = row[-2]\n",
    "    dt_instance = dt.datetime.strptime(row[-1], \"%m/%d/%Y %H:%M\")\n",
    "    hour = dt_instance.strftime(\"%H\")\n",
    "    num_comments = int(row[4])\n",
    "    if hour == \"15\" and author != \"whoishiring\":\n",
    "        count += 1\n",
    "        comments += num_comments\n",
    "\n",
    "print('\\n')\n",
    "avg_comments = comments / count\n",
    "print(\"Avg. Comments ex-whoishiring Posts at 15:00 Hour:\\n{avg:.2f}\".format(avg=avg_comments))\n"
   ]
  },
  {
   "attachments": {
    "18a74d64-2b52-4221-a8f9-ecdecda41593.png": {
     "image/png": "[encoded data removed]"
    }
   },
   "cell_type": "markdown",
   "id": "93cfe29b-1402-4d05-9ec5-0dc60aff3272",
   "metadata": {},
   "source": [
    "As can be seen, comments on \"Ask HN\" questions at the 15:00 hour are dominated by whoishiring posts. The top five and seven of the top ten most commented on posts from this hour are from whoishiring. Based on the timestamps for whoishiring posts, which show posts on the first of the month and right around 15:00, we can conclude that these are likely scheduled, auto-generated posts. See below for the August 2016 post that generated the most comments:\n",
    "![image.png](attachment:18a74d64-2b52-4221-a8f9-ecdecda41593.png)\n",
    "\n",
    "It is also interesting to note that the most popular (by number of comments) whoishiring posts were all from 2016. This aligns with the deceleration in tech job creation in 2016. As stated by Mercury News in a [2017 article](https://www.mercurynews.com/2017/02/10/tech-job-growth-slows-in-bay-area/), \"tech’s annual job growth throttled back to 3.5 percent, or 26,700 new jobs, in 2016. That’s much slower than the 6 percent annual gain of 42,300 jobs in 2015, or the 6.4 percent gain in 2014.\"\n",
    "\n",
    "Aside from whoishiring posts, the average number of comments per \"Ask HN\" post at the 15:00 hour is unremarkable."
   ]
  },
  {
   "cell_type": "markdown",
   "id": "6545580c-9f94-451d-82e2-64d55078d618",
   "metadata": {},
   "source": [
    "## Conclusion\n",
    "The intent of this analysis was to answer the following two questions: \n",
    "\n",
    "1. Do Ask HN or Show HN receive more comments on average?\n",
    "2. Do posts created at a certain time receive more comments on average?\n",
    "\n",
    "The data definitively shows that \"Ask HN\" posts receive more comments on average, which makes sense given that the intent of most of these posts is to receive answers from other users in the form of comments. Whereas \"Show HN\" posts often present findings or encourage collaboration on the underlying material, \"Ask HN\" posts cater specifically to communication in the comments section of the post.\n",
    "\n",
    "Focusing on \"Ask HN\", we then tried to determine if the time of the post significantly impacts the number of comments. When looking into the top five hours by average number of comments, it is evident that the averages are skewed by specific authors that always post at the same time and outliers. The hour with the highest average number of comments per post was 15:00 with an average of 38.59. When digging into the most commented on posts, we uncovered the fact that the high average was driven by hiring posts from the author whoishiring. All of whoishiring's posts were essentially the same--prompting employers seeking new hires to describe the opening--and are posted on the first of the month right around 3pm EST (implying scheduled posts). When excluding posts from whoishiring, the average number of comments from 15:00 hour \"Ask HN\" posts is significantly lower at 13.37. Posts at the 02:00 hour generating the second highest average number of comments was surprsing given the timing for both east coast and west coast users (2am on east coast, 11pm on west coast). It turns out that the average of 23.81 was largely due to one popular post (_Ask HN: What's the best tool you used to use that doesn't exist anymore?_) which was among the most commented on posts on the entire website.\n",
    "\n",
    "When excluding the hours of 15:00 and 02:00, the hours generating the most comments per post are 16:00, 20:00, 21:00. Intuitively, it is not surprising that these hours score high in terms of comments given that they align with late afternoon/evening for those on the east coast and overlap with the west coast afternoon. For prospective users looking to engage with the Hacker News community, we would recommend posting an \"Ask HN\" question between 4pm and 9pm eastern time."
   ]
  }
 ],
 "metadata": {
  "kernelspec": {
   "display_name": "Python 3",
   "language": "python",
   "name": "python3"
  },
  "language_info": {
   "codemirror_mode": {
    "name": "ipython",
    "version": 3
   },
   "file_extension": ".py",
   "mimetype": "text/x-python",
   "name": "python",
   "nbconvert_exporter": "python",
   "pygments_lexer": "ipython3",
   "version": "3.8.8"
  }
 },
 "nbformat": 4,
 "nbformat_minor": 5
}
